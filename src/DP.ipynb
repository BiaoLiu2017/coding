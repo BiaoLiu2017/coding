{
 "cells": [
  {
   "cell_type": "code",
   "execution_count": 23,
   "id": "c5e7f4f4-ce3a-4cef-b428-cbc0de802d84",
   "metadata": {},
   "outputs": [],
   "source": [
    "from typing import List"
   ]
  },
  {
   "cell_type": "markdown",
   "id": "d83ac50f-ae2f-423a-88f4-ce0c6755105f",
   "metadata": {},
   "source": [
    "# 斐波那契问题引申"
   ]
  },
  {
   "cell_type": "code",
   "execution_count": null,
   "id": "baa74499-1c9e-4bec-8d72-ca9b6735cdd1",
   "metadata": {},
   "outputs": [],
   "source": [
    "# 引申出重叠子问题、备忘录、DP table、降低空间复杂度等；"
   ]
  },
  {
   "cell_type": "markdown",
   "id": "c22f5327-1657-451f-b888-53d8f982d71a",
   "metadata": {},
   "source": [
    "## 最原始的方案"
   ]
  },
  {
   "cell_type": "code",
   "execution_count": 1,
   "id": "efc3bf23-704f-4f1d-b1c4-eacd55bee3d8",
   "metadata": {},
   "outputs": [],
   "source": [
    "def fib1(n):\n",
    "    if n == 1 or n == 2:\n",
    "        return 1\n",
    "    else:\n",
    "        return fib1(n-1) + fib1(n-2)"
   ]
  },
  {
   "cell_type": "markdown",
   "id": "14f1cc43-7bb4-49d6-9167-9cc2df0b0ae3",
   "metadata": {},
   "source": [
    "## 重叠子问题和备忘录"
   ]
  },
  {
   "cell_type": "code",
   "execution_count": 10,
   "id": "3c86f1cf-6874-483f-b1de-d234f39524ef",
   "metadata": {},
   "outputs": [],
   "source": [
    "# 重叠子问题：上述方案存在重叠子问题，导致大量重复计算，造成了大量计算重复，比如fib(20)=fib(19)+fib(18)，fib(19)=fib(18)+fib(17)，那么fib(18)就被计算了两次；\n",
    "# 解决办法：备忘录；即带备忘录的递归算法来减少重复计算，直接查询；\n",
    "def fib2(n):\n",
    "    memo = [0]*n\n",
    "    return sub_fib2(memo, n)\n",
    "\n",
    "def sub_fib2(memo, n):\n",
    "    print(memo, n)\n",
    "    if n == 1 or n == 2:\n",
    "        return 1\n",
    "    else:\n",
    "        if memo[n-1] == 0:\n",
    "            memo[n-1] = sub_fib2(memo, n-1) + sub_fib2(memo, n-2)\n",
    "        return memo[n-1]\n"
   ]
  },
  {
   "cell_type": "code",
   "execution_count": 12,
   "id": "cbf37c6c-54d9-4a84-bd39-70496b87bb54",
   "metadata": {},
   "outputs": [
    {
     "data": {
      "text/html": [
       "<img src=\"../image/img1.png\", width=320, heigth=240>\n"
      ],
      "text/plain": [
       "<IPython.core.display.HTML object>"
      ]
     },
     "metadata": {},
     "output_type": "display_data"
    }
   ],
   "source": [
    "%%html\n",
    "<img src=\"../image/img1.png\", width=320, heigth=240>"
   ]
  },
  {
   "cell_type": "code",
   "execution_count": 11,
   "id": "ec002a5f-8171-4823-911b-fc6e15ac18d0",
   "metadata": {},
   "outputs": [
    {
     "name": "stdout",
     "output_type": "stream",
     "text": [
      "[0, 0, 0, 0, 0, 0, 0, 0, 0, 0, 0, 0, 0, 0, 0, 0, 0, 0, 0, 0] 20\n",
      "[0, 0, 0, 0, 0, 0, 0, 0, 0, 0, 0, 0, 0, 0, 0, 0, 0, 0, 0, 0] 19\n",
      "[0, 0, 0, 0, 0, 0, 0, 0, 0, 0, 0, 0, 0, 0, 0, 0, 0, 0, 0, 0] 18\n",
      "[0, 0, 0, 0, 0, 0, 0, 0, 0, 0, 0, 0, 0, 0, 0, 0, 0, 0, 0, 0] 17\n",
      "[0, 0, 0, 0, 0, 0, 0, 0, 0, 0, 0, 0, 0, 0, 0, 0, 0, 0, 0, 0] 16\n",
      "[0, 0, 0, 0, 0, 0, 0, 0, 0, 0, 0, 0, 0, 0, 0, 0, 0, 0, 0, 0] 15\n",
      "[0, 0, 0, 0, 0, 0, 0, 0, 0, 0, 0, 0, 0, 0, 0, 0, 0, 0, 0, 0] 14\n",
      "[0, 0, 0, 0, 0, 0, 0, 0, 0, 0, 0, 0, 0, 0, 0, 0, 0, 0, 0, 0] 13\n",
      "[0, 0, 0, 0, 0, 0, 0, 0, 0, 0, 0, 0, 0, 0, 0, 0, 0, 0, 0, 0] 12\n",
      "[0, 0, 0, 0, 0, 0, 0, 0, 0, 0, 0, 0, 0, 0, 0, 0, 0, 0, 0, 0] 11\n",
      "[0, 0, 0, 0, 0, 0, 0, 0, 0, 0, 0, 0, 0, 0, 0, 0, 0, 0, 0, 0] 10\n",
      "[0, 0, 0, 0, 0, 0, 0, 0, 0, 0, 0, 0, 0, 0, 0, 0, 0, 0, 0, 0] 9\n",
      "[0, 0, 0, 0, 0, 0, 0, 0, 0, 0, 0, 0, 0, 0, 0, 0, 0, 0, 0, 0] 8\n",
      "[0, 0, 0, 0, 0, 0, 0, 0, 0, 0, 0, 0, 0, 0, 0, 0, 0, 0, 0, 0] 7\n",
      "[0, 0, 0, 0, 0, 0, 0, 0, 0, 0, 0, 0, 0, 0, 0, 0, 0, 0, 0, 0] 6\n",
      "[0, 0, 0, 0, 0, 0, 0, 0, 0, 0, 0, 0, 0, 0, 0, 0, 0, 0, 0, 0] 5\n",
      "[0, 0, 0, 0, 0, 0, 0, 0, 0, 0, 0, 0, 0, 0, 0, 0, 0, 0, 0, 0] 4\n",
      "[0, 0, 0, 0, 0, 0, 0, 0, 0, 0, 0, 0, 0, 0, 0, 0, 0, 0, 0, 0] 3\n",
      "[0, 0, 0, 0, 0, 0, 0, 0, 0, 0, 0, 0, 0, 0, 0, 0, 0, 0, 0, 0] 2\n",
      "[0, 0, 0, 0, 0, 0, 0, 0, 0, 0, 0, 0, 0, 0, 0, 0, 0, 0, 0, 0] 1\n",
      "[0, 0, 2, 0, 0, 0, 0, 0, 0, 0, 0, 0, 0, 0, 0, 0, 0, 0, 0, 0] 2\n",
      "[0, 0, 2, 3, 0, 0, 0, 0, 0, 0, 0, 0, 0, 0, 0, 0, 0, 0, 0, 0] 3\n",
      "[0, 0, 2, 3, 5, 0, 0, 0, 0, 0, 0, 0, 0, 0, 0, 0, 0, 0, 0, 0] 4\n",
      "[0, 0, 2, 3, 5, 8, 0, 0, 0, 0, 0, 0, 0, 0, 0, 0, 0, 0, 0, 0] 5\n",
      "[0, 0, 2, 3, 5, 8, 13, 0, 0, 0, 0, 0, 0, 0, 0, 0, 0, 0, 0, 0] 6\n",
      "[0, 0, 2, 3, 5, 8, 13, 21, 0, 0, 0, 0, 0, 0, 0, 0, 0, 0, 0, 0] 7\n",
      "[0, 0, 2, 3, 5, 8, 13, 21, 34, 0, 0, 0, 0, 0, 0, 0, 0, 0, 0, 0] 8\n",
      "[0, 0, 2, 3, 5, 8, 13, 21, 34, 55, 0, 0, 0, 0, 0, 0, 0, 0, 0, 0] 9\n",
      "[0, 0, 2, 3, 5, 8, 13, 21, 34, 55, 89, 0, 0, 0, 0, 0, 0, 0, 0, 0] 10\n",
      "[0, 0, 2, 3, 5, 8, 13, 21, 34, 55, 89, 144, 0, 0, 0, 0, 0, 0, 0, 0] 11\n",
      "[0, 0, 2, 3, 5, 8, 13, 21, 34, 55, 89, 144, 233, 0, 0, 0, 0, 0, 0, 0] 12\n",
      "[0, 0, 2, 3, 5, 8, 13, 21, 34, 55, 89, 144, 233, 377, 0, 0, 0, 0, 0, 0] 13\n",
      "[0, 0, 2, 3, 5, 8, 13, 21, 34, 55, 89, 144, 233, 377, 610, 0, 0, 0, 0, 0] 14\n",
      "[0, 0, 2, 3, 5, 8, 13, 21, 34, 55, 89, 144, 233, 377, 610, 987, 0, 0, 0, 0] 15\n",
      "[0, 0, 2, 3, 5, 8, 13, 21, 34, 55, 89, 144, 233, 377, 610, 987, 1597, 0, 0, 0] 16\n",
      "[0, 0, 2, 3, 5, 8, 13, 21, 34, 55, 89, 144, 233, 377, 610, 987, 1597, 2584, 0, 0] 17\n",
      "[0, 0, 2, 3, 5, 8, 13, 21, 34, 55, 89, 144, 233, 377, 610, 987, 1597, 2584, 4181, 0] 18\n"
     ]
    },
    {
     "data": {
      "text/plain": [
       "6765"
      ]
     },
     "execution_count": 11,
     "metadata": {},
     "output_type": "execute_result"
    }
   ],
   "source": [
    "fib2(20)"
   ]
  },
  {
   "cell_type": "code",
   "execution_count": null,
   "id": "ffa669a0-1f56-43c1-baf8-12a9573b5cd7",
   "metadata": {},
   "outputs": [],
   "source": [
    "# 即将复杂度从O(n^2)降低到了O(n)，减少了大量的重复计算，每个计算只需一次；\n",
    "# 即当计算得到memo[2]的值为2时，所有需要计算fib2(3)的地方都直接返回memo[2]，而无需重复计算；以此类推，得到memo[3]，...\n",
    "# 实际剪枝的过程是自低向上的；\n",
    "# 计算过程如下：\n",
    "# 计算f(19)+f(18)，先计算f(19)，打印时memo全为0，n为20（第1行）\n",
    "# 计算f(18)+f(17)，先计算f(18)，打印时memo全为0，n为19（第2行）\n",
    "# ...\n",
    "# 计算f(3)+f(2)，先计算f(3)，打印时memo全为0，n为4（第17行）\n",
    "# 计算f(2)+f(1)，先计算f(2)，再计算f(1)，打印时memo全为0，n为3\n",
    "# 计算f(2)，值为1，打印时memo全为0，n为2\n",
    "# 计算f(1)，值为1，打印时memo全为0，n为1\n",
    "# 计算得到f(3)为2，memo[2]为2，回到第17行；\n",
    "# 计算f(2)，打印时memo[2]=2，n为2\n",
    "# 回到第16行，先计算得到f(4)为3（memo[3]=3），然后计算f(3)，直接得到f(3)=memo[2]，此时打印memo时memo[2]为2，memo[3]为3，n为3；\n",
    "# 回到第15行，先计算得到f(5)为5（memo[4]=5），然后计算f(4)，直接得到f(4)=memo[3]，此时打印memo时memo[2]为2，memo[3]为3，memo[4]为5，n为4；\n",
    "# ...\n",
    "# 回到第1行，先计算得到f(19)为4181（memo[18]=4181），然后计算f(18)，直接得到f(18)=memo[17]，此时打印memo时memo[2]为2，memo[3]为3，memo[4]为5，... n为18；\n",
    "# 然后将f(19)+f(18)得到最终结果；"
   ]
  },
  {
   "cell_type": "code",
   "execution_count": null,
   "id": "a7046fc3-2041-4720-96bf-9426fa60ebcf",
   "metadata": {},
   "outputs": [],
   "source": [
    "# 因此实际的计算过程如下图"
   ]
  },
  {
   "cell_type": "code",
   "execution_count": 16,
   "id": "5f90f942-61f4-4e79-a3ac-e71e87fa3ffd",
   "metadata": {},
   "outputs": [
    {
     "data": {
      "text/html": [
       "<img src=\"../image/img2.png\", width=320, heigth=240>\n"
      ],
      "text/plain": [
       "<IPython.core.display.HTML object>"
      ]
     },
     "metadata": {},
     "output_type": "display_data"
    }
   ],
   "source": [
    "%%html\n",
    "<img src=\"../image/img2.png\", width=320, heigth=240>"
   ]
  },
  {
   "cell_type": "markdown",
   "id": "c4273203-f250-4e9f-8eee-677af70d06f4",
   "metadata": {},
   "source": [
    "## dp数组的迭代解法"
   ]
  },
  {
   "cell_type": "code",
   "execution_count": 19,
   "id": "59fb3f6a-dc16-452d-afa1-1fe61f240670",
   "metadata": {},
   "outputs": [],
   "source": [
    "# 上述方案是自顶而下的(但计算机的计算过程实际上还是自低而上的)，也可以采取自低而上，即迭代；\n",
    "# 上述备忘录即此时的DP table\n",
    "def fib_dp(n):\n",
    "    dp = [0]*n\n",
    "    dp[0] = 1\n",
    "    dp[1] = 1\n",
    "    for i in range(2, n):\n",
    "        dp[i] = dp[i-1] + dp[i-2]\n",
    "    print(dp)\n",
    "    return dp[n-1]"
   ]
  },
  {
   "cell_type": "code",
   "execution_count": 20,
   "id": "3737d070-e780-45b1-be8e-277f509ae357",
   "metadata": {},
   "outputs": [
    {
     "name": "stdout",
     "output_type": "stream",
     "text": [
      "[1, 1, 2, 3, 5, 8, 13, 21, 34, 55, 89, 144, 233, 377, 610, 987, 1597, 2584, 4181, 6765]\n"
     ]
    },
    {
     "data": {
      "text/plain": [
       "6765"
      ]
     },
     "execution_count": 20,
     "metadata": {},
     "output_type": "execute_result"
    }
   ],
   "source": [
    "fib_dp(20)"
   ]
  },
  {
   "cell_type": "code",
   "execution_count": 21,
   "id": "ee8a7179-1020-45fa-b453-fe977f489201",
   "metadata": {},
   "outputs": [
    {
     "name": "stdout",
     "output_type": "stream",
     "text": [
      "1 1\n",
      "1 2\n",
      "2 3\n",
      "3 5\n",
      "5 8\n",
      "8 13\n",
      "13 21\n",
      "21 34\n",
      "34 55\n",
      "55 89\n",
      "89 144\n",
      "144 233\n",
      "233 377\n",
      "377 610\n",
      "610 987\n",
      "987 1597\n",
      "1597 2584\n",
      "2584 4181\n"
     ]
    },
    {
     "data": {
      "text/plain": [
       "6765"
      ]
     },
     "execution_count": 21,
     "metadata": {},
     "output_type": "execute_result"
    }
   ],
   "source": [
    "# 降低空间复杂度为O(1)\n",
    "# 只保存两个元素即可\n",
    "# 这一般是动态规划问题的最后一步优化，如果我们发现每次状态转移只需要 DP table 中的一部分，那么可以尝试缩小 DP table 的大小，只记录必要的数据，从而降低空间复杂度。\n",
    "def fib_dp_v2(n):\n",
    "    dp_1 = 1\n",
    "    dp_2 = 1\n",
    "    for i in range(2, n):\n",
    "        print(dp_1, dp_2)\n",
    "        dp_now = dp_1 + dp_2\n",
    "        dp_1 = dp_2\n",
    "        dp_2 = dp_now\n",
    "    return dp_now\n",
    "fib_dp_v2(20)\n"
   ]
  },
  {
   "cell_type": "markdown",
   "id": "ce02ebe3-0ee3-45ab-bec8-bce510a10433",
   "metadata": {},
   "source": [
    "# 凑零钱问题"
   ]
  },
  {
   "cell_type": "markdown",
   "id": "99c7a484-059e-499b-941b-2938bbcfa9d3",
   "metadata": {},
   "source": [
    "给你 k 种面值的硬币，面值分别为 c1, c2 ... ck，每种硬币的数量无限，再给一个总金额 amount，问你最少需要几枚硬币凑出这个金额，如果不可能凑出，算法返回 -1 。"
   ]
  },
  {
   "cell_type": "markdown",
   "id": "caacf0b6-5474-4167-9eba-7de4ca6f37cd",
   "metadata": {},
   "source": [
    "这个问题是动态规划问题，因为它具有「最优子结构」的。要符合「最优子结构」，子问题间必须互相独立。  \n",
    "假设你有面值为 1, 2, 5 的硬币，你想求 amount = 11 时的最少硬币数（原问题），如果你知道凑出 amount = 10, 9, 6 的最少硬币数（子问题），你只需要把子问题的答案加一（再选一枚面值为 1, 2, 5 的硬币），求个最小值，就是原问题的答案。因为硬币的数量是没有限制的，所以子问题之间没有相互制，是互相独立的。"
   ]
  },
  {
   "cell_type": "code",
   "execution_count": 24,
   "id": "db535b17-e76e-4c49-a29c-df1ea8413645",
   "metadata": {},
   "outputs": [],
   "source": [
    "def coinChange(coins: List[int], amount: int) -> int:\n",
    "    pass"
   ]
  },
  {
   "cell_type": "markdown",
   "id": "8d3ec685-926c-4ecc-8b4f-f6743144a052",
   "metadata": {},
   "source": [
    "## 暴力解法"
   ]
  },
  {
   "cell_type": "code",
   "execution_count": 26,
   "id": "7c3eb32d-765e-45ae-8d91-bf5c0941968f",
   "metadata": {},
   "outputs": [],
   "source": [
    "# 步骤：\n",
    "# 1、确定 base case，目标金额 amount 为 0 时算法返回 0，不需要任何硬币就已经凑出目标金额了。\n",
    "# 2、确定「状态」，也就是原问题和子问题中会变化的变量。硬币数无限，面额是题目给定的，只有目标金额会不断地向 base case 靠近，所以唯一的「状态」就是目标金额 amount。\n",
    "# 3、确定「选择」，也就是导致「状态」产生变化的行为。目标金额为什么变化呢，因为你在选择硬币，你每选择一枚硬币，就相当于减少了目标金额。所以说所有硬币的面值，就是你的「选择」。\n",
    "# 4、明确 dp 函数/数组的定义。我们这里讲的是自顶向下的解法，所以会有一个递归的 dp 函数，一般来说函数的参数就是状态转移中会变化的量，也就是上面说到的「状态」；\n",
    "# 函数的返回值就是题目要求我们计算的量。就本题来说，状态只有一个，即「目标金额」，题目要求我们计算凑出目标金额所需的最少硬币数量。"
   ]
  },
  {
   "cell_type": "code",
   "execution_count": null,
   "id": "16fe3e14-34f5-4147-a0f9-f3b872fe7763",
   "metadata": {},
   "outputs": [],
   "source": [
    "# 即暴力计算所有情况，依次比较，得到最优解"
   ]
  },
  {
   "cell_type": "code",
   "execution_count": 35,
   "id": "3c32e325-0a4f-41ad-b112-1689c66cbbdb",
   "metadata": {},
   "outputs": [],
   "source": [
    "# 实际代码\n",
    "def coin_dp(coins: List[int], n: int) -> int:\n",
    "    # 暴力计算法\n",
    "    if n == 0:\n",
    "        # base case\n",
    "        return 0\n",
    "    if n < 0:\n",
    "        # 即无法满足情况，如n为4，但只有5元硬币，此时无法满足要求\n",
    "        return -1\n",
    "    res = float('inf')\n",
    "    for coin in coins:\n",
    "        sub_res = coin_dp(coins, n - coin)\n",
    "        if sub_res == -1:\n",
    "            continue\n",
    "        res = min(res, sub_res + 1)  # 之前最优方案和当前方案对比\n",
    "    return res if res != float('inf') else -1"
   ]
  },
  {
   "cell_type": "code",
   "execution_count": 36,
   "id": "66600283-1df1-4dcb-9922-c7659821b526",
   "metadata": {},
   "outputs": [
    {
     "data": {
      "text/plain": [
       "3"
      ]
     },
     "execution_count": 36,
     "metadata": {},
     "output_type": "execute_result"
    }
   ],
   "source": [
    "coin_dp([1,3,5], 11)"
   ]
  },
  {
   "cell_type": "code",
   "execution_count": null,
   "id": "22a8dfd4-83b0-42e9-a538-94b3778da322",
   "metadata": {},
   "outputs": [],
   "source": [
    "# 状态转移方程如下："
   ]
  },
  {
   "cell_type": "code",
   "execution_count": 29,
   "id": "53baecee-7970-4502-b338-0aa1355661d9",
   "metadata": {},
   "outputs": [
    {
     "data": {
      "text/html": [
       "<img src=\"../image/img3.png\", width=320, heigth=240>\n"
      ],
      "text/plain": [
       "<IPython.core.display.HTML object>"
      ]
     },
     "metadata": {},
     "output_type": "display_data"
    }
   ],
   "source": [
    "%%html\n",
    "<img src=\"../image/img3.png\", width=320, heigth=240>"
   ]
  },
  {
   "cell_type": "code",
   "execution_count": 30,
   "id": "e4ab4c2b-96b7-4cc3-b63d-93b4dba0ad90",
   "metadata": {},
   "outputs": [
    {
     "data": {
      "text/html": [
       "<img src=\"../image/img4.png\", width=320, heigth=240>\n"
      ],
      "text/plain": [
       "<IPython.core.display.HTML object>"
      ]
     },
     "metadata": {},
     "output_type": "display_data"
    }
   ],
   "source": [
    "%%html\n",
    "<img src=\"../image/img4.png\", width=320, heigth=240>"
   ]
  },
  {
   "cell_type": "markdown",
   "id": "dcf2fdd3-8611-44c4-a60e-40444b795451",
   "metadata": {},
   "source": [
    "复杂度：  \n",
    "这棵树生长的并不规则，确切算出树上有多少节点是比较困难的。对于这种情况，我们一般的做法是按照最坏的情况估算一个时间复杂度的上界。\n",
    "\n",
    "假设目标金额为 n，给定的硬币个数为 k，那么递归树最坏情况下高度为 n（全用面额为 1 的硬币），然后再假设这是一棵满 k 叉树，则节点的总数在 k^n 这个数量级。\n",
    "\n",
    "接下来看每个子问题的复杂度，由于每次递归包含一个 for 循环，复杂度为 O(k)，相乘得到总时间复杂度为 O(k^n)，指数级别。"
   ]
  },
  {
   "cell_type": "markdown",
   "id": "c2c4c7ec-f8e8-4d03-8a51-96d6969edfbe",
   "metadata": {},
   "source": [
    "## 带备忘录的递归\n",
    "消除子问题"
   ]
  },
  {
   "cell_type": "code",
   "execution_count": 48,
   "id": "caa62800-c1d0-42d4-889b-f1ab01b6f61d",
   "metadata": {},
   "outputs": [],
   "source": [
    "def coin_bp_v2(coins, n):\n",
    "    memo = [-666] * (n + 1)\n",
    "\n",
    "    def dp(coins, n):\n",
    "        if n == 0:\n",
    "            # base case\n",
    "            return 0\n",
    "        if n < 0:\n",
    "            # 即无法满足情况，如n为4，但只有5元硬币，此时无法满足要求\n",
    "            return -1\n",
    "        res = float('inf')\n",
    "        for coin in coins:\n",
    "            if memo[n-coin] == -666:\n",
    "                sub_res = coin_dp(coins, n - coin)\n",
    "                if sub_res == -1:\n",
    "                    continue\n",
    "                memo[n-coin] = sub_res\n",
    "            res = min(res, memo[n-coin] + 1)  # 之前最优方案和当前方案对比\n",
    "        \n",
    "        return res if res != float('inf') else -1\n",
    "\n",
    "    return dp(coins, n)\n"
   ]
  },
  {
   "cell_type": "code",
   "execution_count": 49,
   "id": "69126148-186a-41cf-8d9d-9744972abd73",
   "metadata": {},
   "outputs": [
    {
     "data": {
      "text/plain": [
       "3"
      ]
     },
     "execution_count": 49,
     "metadata": {},
     "output_type": "execute_result"
    }
   ],
   "source": [
    "coin_bp_v2([1,3,5], 11)"
   ]
  },
  {
   "cell_type": "code",
   "execution_count": null,
   "id": "59fb5547-39b0-4f9e-862d-8a96e5c1ba78",
   "metadata": {},
   "outputs": [],
   "source": []
  }
 ],
 "metadata": {
  "kernelspec": {
   "display_name": "Python 3 (ipykernel)",
   "language": "python",
   "name": "python3"
  },
  "language_info": {
   "codemirror_mode": {
    "name": "ipython",
    "version": 3
   },
   "file_extension": ".py",
   "mimetype": "text/x-python",
   "name": "python",
   "nbconvert_exporter": "python",
   "pygments_lexer": "ipython3",
   "version": "3.9.18"
  }
 },
 "nbformat": 4,
 "nbformat_minor": 5
}
